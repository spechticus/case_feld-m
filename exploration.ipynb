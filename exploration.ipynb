{
 "cells": [
  {
   "cell_type": "code",
   "execution_count": null,
   "metadata": {},
   "outputs": [],
   "source": [
    "import pandas as pd\n",
    "import numpy as np\n",
    "import matplotlib.pyplot as plt\n",
    "import binascii\n",
    "\n"
   ]
  },
  {
   "cell_type": "markdown",
   "metadata": {},
   "source": [
    "# Categories.csv"
   ]
  },
  {
   "cell_type": "code",
   "execution_count": null,
   "metadata": {},
   "outputs": [],
   "source": [
    "categories = pd.read_csv('./raw_data/categories.csv')"
   ]
  },
  {
   "cell_type": "code",
   "execution_count": 26,
   "metadata": {},
   "outputs": [
    {
     "name": "stdout",
     "output_type": "stream",
     "text": [
      "   categoryID    categoryName  \\\n",
      "0           1       Beverages   \n",
      "1           2      Condiments   \n",
      "2           3     Confections   \n",
      "3           4  Dairy Products   \n",
      "4           5  Grains/Cereals   \n",
      "\n",
      "                                         description  \\\n",
      "0            Soft drinks coffees teas beers and ales   \n",
      "1  Sweet and savory sauces relishes spreads and s...   \n",
      "2                  Desserts candies and sweet breads   \n",
      "3                                            Cheeses   \n",
      "4                   Breads crackers pasta and cereal   \n",
      "\n",
      "                                             picture  \n",
      "0  0x151C2F00020000000D000E0014002100FFFFFFFF4269...  \n",
      "1  0x151C2F00020000000D000E0014002100FFFFFFFF4269...  \n",
      "2  0x151C2F00020000000D000E0014002100FFFFFFFF4269...  \n",
      "3  0x151C2F00020000000D000E0014002100FFFFFFFF4269...  \n",
      "4  0x151C2F00020000000D000E0014002100FFFFFFFF4269...  \n"
     ]
    }
   ],
   "source": [
    "print(categories.head())"
   ]
  },
  {
   "cell_type": "code",
   "execution_count": null,
   "metadata": {},
   "outputs": [],
   "source": [
    "# The \"picture\" column seems to be in Hex format. Let's try to convert it to an actual BMP\n",
    "\n",
    "picture_binary = picture_binary = categories['picture'].apply(lambda x: binascii.hexlify(x[:2].encode()) if x.startswith('0x') else binascii.hexlify(x.encode()))\n",
    "\n",
    "with open(\"output_image.bmp\", \"wb\") as image_file:\n",
    "    image_file.write(picture_binary[0])\n",
    "\n",
    "# Hm, the bmp is bogus and there is actually just one string for all categories. Probably it's some kind of placeholder / mock-up then?\n",
    "categories['picture'].value_counts()\n"
   ]
  },
  {
   "cell_type": "markdown",
   "metadata": {},
   "source": [
    "# Customers.csv"
   ]
  },
  {
   "cell_type": "code",
   "execution_count": 18,
   "metadata": {},
   "outputs": [],
   "source": [
    "customers = pd.read_csv('./raw_data/customers.csv')"
   ]
  },
  {
   "cell_type": "code",
   "execution_count": 19,
   "metadata": {},
   "outputs": [
    {
     "data": {
      "text/html": [
       "<div>\n",
       "<style scoped>\n",
       "    .dataframe tbody tr th:only-of-type {\n",
       "        vertical-align: middle;\n",
       "    }\n",
       "\n",
       "    .dataframe tbody tr th {\n",
       "        vertical-align: top;\n",
       "    }\n",
       "\n",
       "    .dataframe thead th {\n",
       "        text-align: right;\n",
       "    }\n",
       "</style>\n",
       "<table border=\"1\" class=\"dataframe\">\n",
       "  <thead>\n",
       "    <tr style=\"text-align: right;\">\n",
       "      <th></th>\n",
       "      <th>customerID</th>\n",
       "      <th>companyName</th>\n",
       "      <th>contactName</th>\n",
       "      <th>contactTitle</th>\n",
       "      <th>address</th>\n",
       "      <th>city</th>\n",
       "      <th>region</th>\n",
       "      <th>postalCode</th>\n",
       "      <th>country</th>\n",
       "      <th>phone</th>\n",
       "      <th>fax</th>\n",
       "    </tr>\n",
       "  </thead>\n",
       "  <tbody>\n",
       "    <tr>\n",
       "      <th>0</th>\n",
       "      <td>ALFKI</td>\n",
       "      <td>Alfreds Futterkiste</td>\n",
       "      <td>Maria Anders</td>\n",
       "      <td>Sales Representative</td>\n",
       "      <td>Obere Str. 57</td>\n",
       "      <td>Berlin</td>\n",
       "      <td>NaN</td>\n",
       "      <td>12209</td>\n",
       "      <td>Germany</td>\n",
       "      <td>030-0074321</td>\n",
       "      <td>030-0076545</td>\n",
       "    </tr>\n",
       "    <tr>\n",
       "      <th>1</th>\n",
       "      <td>ANATR</td>\n",
       "      <td>Ana Trujillo Emparedados y helados</td>\n",
       "      <td>Ana Trujillo</td>\n",
       "      <td>Owner</td>\n",
       "      <td>Avda. de la Constitución 2222</td>\n",
       "      <td>México D.F.</td>\n",
       "      <td>NaN</td>\n",
       "      <td>05021</td>\n",
       "      <td>Mexico</td>\n",
       "      <td>(5) 555-4729</td>\n",
       "      <td>(5) 555-3745</td>\n",
       "    </tr>\n",
       "    <tr>\n",
       "      <th>2</th>\n",
       "      <td>ANTON</td>\n",
       "      <td>Antonio Moreno Taquería</td>\n",
       "      <td>Antonio Moreno</td>\n",
       "      <td>Owner</td>\n",
       "      <td>Mataderos  2312</td>\n",
       "      <td>México D.F.</td>\n",
       "      <td>NaN</td>\n",
       "      <td>05023</td>\n",
       "      <td>Mexico</td>\n",
       "      <td>(5) 555-3932</td>\n",
       "      <td>NaN</td>\n",
       "    </tr>\n",
       "    <tr>\n",
       "      <th>3</th>\n",
       "      <td>AROUT</td>\n",
       "      <td>Around the Horn</td>\n",
       "      <td>Thomas Hardy</td>\n",
       "      <td>Sales Representative</td>\n",
       "      <td>120 Hanover Sq.</td>\n",
       "      <td>London</td>\n",
       "      <td>NaN</td>\n",
       "      <td>WA1 1DP</td>\n",
       "      <td>UK</td>\n",
       "      <td>(171) 555-7788</td>\n",
       "      <td>(171) 555-6750</td>\n",
       "    </tr>\n",
       "    <tr>\n",
       "      <th>4</th>\n",
       "      <td>BERGS</td>\n",
       "      <td>Berglunds snabbköp</td>\n",
       "      <td>Christina Berglund</td>\n",
       "      <td>Order Administrator</td>\n",
       "      <td>Berguvsvägen  8</td>\n",
       "      <td>Luleå</td>\n",
       "      <td>NaN</td>\n",
       "      <td>S-958 22</td>\n",
       "      <td>Sweden</td>\n",
       "      <td>0921-12 34 65</td>\n",
       "      <td>0921-12 34 67</td>\n",
       "    </tr>\n",
       "  </tbody>\n",
       "</table>\n",
       "</div>"
      ],
      "text/plain": [
       "  customerID                         companyName         contactName  \\\n",
       "0      ALFKI                 Alfreds Futterkiste        Maria Anders   \n",
       "1      ANATR  Ana Trujillo Emparedados y helados        Ana Trujillo   \n",
       "2      ANTON             Antonio Moreno Taquería      Antonio Moreno   \n",
       "3      AROUT                     Around the Horn        Thomas Hardy   \n",
       "4      BERGS                  Berglunds snabbköp  Christina Berglund   \n",
       "\n",
       "           contactTitle                        address         city region  \\\n",
       "0  Sales Representative                  Obere Str. 57       Berlin    NaN   \n",
       "1                 Owner  Avda. de la Constitución 2222  México D.F.    NaN   \n",
       "2                 Owner                Mataderos  2312  México D.F.    NaN   \n",
       "3  Sales Representative                120 Hanover Sq.       London    NaN   \n",
       "4   Order Administrator                Berguvsvägen  8        Luleå    NaN   \n",
       "\n",
       "  postalCode  country           phone             fax  \n",
       "0      12209  Germany     030-0074321     030-0076545  \n",
       "1      05021   Mexico    (5) 555-4729    (5) 555-3745  \n",
       "2      05023   Mexico    (5) 555-3932             NaN  \n",
       "3    WA1 1DP       UK  (171) 555-7788  (171) 555-6750  \n",
       "4   S-958 22   Sweden   0921-12 34 65   0921-12 34 67  "
      ]
     },
     "execution_count": 19,
     "metadata": {},
     "output_type": "execute_result"
    }
   ],
   "source": [
    "customers.head()"
   ]
  },
  {
   "cell_type": "markdown",
   "metadata": {},
   "source": [
    "Let's try to dissect the individual columns:\n",
    "- **customerID**: There seems to be no clear logic to how exactly this ID comes about. Sometimes it is the first 5 characters straight, sometimes it is three from the first word, sometimes it is four from the first word. Might be human-created. It will be quite difficult to auto-generate this ID and—if human-created—it will be tedious to figure out if a possible ID for a new customer is already present in the data or not. **We might have to create a more auto-generatable ID schema to use that as a primary key in our models later!**\n",
    "- **companyName** / **contactName**: These are proper names and as such they are usually sprinkled with special characters. We need to pay attention to the encoding and maybe consider removing/transliterating some of them.\n",
    "- **contactTitle**: No comments.\n",
    "- **address** / **city**: Again, we need to pay attention to the special characters.\n",
    "- **region**: Contains a lot of missing values. Probably some problem with how the data was created. In a real-life scenario, I would follow-up with upstream actors to clarify the inconsistency, because we know for a fact that e.g. both Germany and France do have regions.\n",
    "- **postalCode**: \n",
    "- **country**: Important information for standardising address, phone, and fax data later. Maybe add a country ID later?\n",
    "- **phone/fax**: To be standardised later for e.g. automatic calling from call centres or the like."
   ]
  },
  {
   "cell_type": "markdown",
   "metadata": {},
   "source": [
    "# Employees.csv"
   ]
  },
  {
   "cell_type": "code",
   "execution_count": 21,
   "metadata": {},
   "outputs": [
    {
     "name": "stdout",
     "output_type": "stream",
     "text": [
      "   employeeID   lastName firstName                 title titleOfCourtesy  \\\n",
      "0           1    Davolio     Nancy  Sales Representative             Ms.   \n",
      "1           2     Fuller    Andrew  Vice President Sales             Dr.   \n",
      "2           3  Leverling     Janet  Sales Representative             Ms.   \n",
      "3           4    Peacock  Margaret  Sales Representative            Mrs.   \n",
      "4           5   Buchanan    Steven         Sales Manager             Mr.   \n",
      "\n",
      "                 birthDate                 hireDate                   address  \\\n",
      "0  1948-12-08 00:00:00.000  1992-05-01 00:00:00.000  507 20th Ave. E. Apt. 2A   \n",
      "1  1952-02-19 00:00:00.000  1992-08-14 00:00:00.000        908 W. Capital Way   \n",
      "2  1963-08-30 00:00:00.000  1992-04-01 00:00:00.000        722 Moss Bay Blvd.   \n",
      "3  1937-09-19 00:00:00.000  1993-05-03 00:00:00.000      4110 Old Redmond Rd.   \n",
      "4  1955-03-04 00:00:00.000  1993-10-17 00:00:00.000           14 Garrett Hill   \n",
      "\n",
      "       city region postalCode country       homePhone  extension  \\\n",
      "0   Seattle     WA      98122     USA  (206) 555-9857       5467   \n",
      "1    Tacoma     WA      98401     USA  (206) 555-9482       3457   \n",
      "2  Kirkland     WA      98033     USA  (206) 555-3412       3355   \n",
      "3   Redmond     WA      98052     USA  (206) 555-8122       5176   \n",
      "4    London    NaN    SW1 8JR      UK   (71) 555-4848       3453   \n",
      "\n",
      "                                               photo  \\\n",
      "0  0x151C2F00020000000D000E0014002100FFFFFFFF4269...   \n",
      "1  0x151C2F00020000000D000E0014002100FFFFFFFF4269...   \n",
      "2  0x151C2F00020000000D000E0014002100FFFFFFFF4269...   \n",
      "3  0x151C2F00020000000D000E0014002100FFFFFFFF4269...   \n",
      "4  0x151C2F00020000000D000E0014002100FFFFFFFF4269...   \n",
      "\n",
      "                                               notes  reportsTo  \\\n",
      "0  Education includes a BA in psychology from Col...        2.0   \n",
      "1  Andrew received his BTS commercial in 1974 and...        NaN   \n",
      "2  Janet has a BS degree in chemistry from Boston...        2.0   \n",
      "3  Margaret holds a BA in English literature from...        2.0   \n",
      "4  Steven Buchanan graduated from St. Andrews Uni...        2.0   \n",
      "\n",
      "                                photoPath  \n",
      "0    http://accweb/emmployees/davolio.bmp  \n",
      "1     http://accweb/emmployees/fuller.bmp  \n",
      "2  http://accweb/emmployees/leverling.bmp  \n",
      "3    http://accweb/emmployees/peacock.bmp  \n",
      "4   http://accweb/emmployees/buchanan.bmp  \n"
     ]
    }
   ],
   "source": [
    "employees = pd.read_csv('./raw_data/employees.csv')\n",
    "print(employees.head())"
   ]
  },
  {
   "cell_type": "markdown",
   "metadata": {},
   "source": [
    "- **employeeID**: \n",
    "- **lastName / firstName**: Check special characters\n",
    "- **birthDate / hireDate**: Look like proper dates, maybe write some range tests for plausibility of age?\n",
    "- **address / city / region / postalCode / homePhone**: Normalise later\n",
    "- **extension**: I don't quite know what they would be. Is it the extension of the phone number?\n",
    "- **reportsTo**: Write tests for relational integrity\n",
    "- **photo**: again, only 3 distinct values and very short ones indeed that I could not get to represent an actual picture.\n",
    "- **photoPath**: Is not an actual URL, seems to be mockup data. Still write tests for proper URL?\n"
   ]
  },
  {
   "cell_type": "markdown",
   "metadata": {},
   "source": [
    "# order_details.csv"
   ]
  },
  {
   "cell_type": "code",
   "execution_count": 22,
   "metadata": {},
   "outputs": [
    {
     "name": "stdout",
     "output_type": "stream",
     "text": [
      "   orderID  productID  unitPrice  quantity  discount\n",
      "0    10248         11       14.0        12       0.0\n",
      "1    10248         42        9.8        10       0.0\n",
      "2    10248         72       34.8         5       0.0\n",
      "3    10249         14       18.6         9       0.0\n",
      "4    10249         51       42.4        40       0.0\n"
     ]
    }
   ],
   "source": [
    "order_details = pd.read_csv('./raw_data/order_details.csv')\n",
    "print(order_details.head())"
   ]
  },
  {
   "cell_type": "markdown",
   "metadata": {},
   "source": [
    "- **orderID**: should reference `orderID` from `orders`.\n",
    "- **productID**: should reference `productID` from `products`\n",
    "- **unitPrice**: should reference the `unitPrice` from `products` for the given `productID`\n",
    "- **quantity**: Since `orders` does not specify the total for the each individual order we cannot verify if the quantity is correct by adding up the subtotals for each `productID` per `orderID`\n",
    "- **discount**: Judging from the range between 0 and 0.26, I assume this is percentage discount. Is thus naturally capped at 1 (test this!)."
   ]
  },
  {
   "cell_type": "markdown",
   "metadata": {},
   "source": [
    "# orders.csv"
   ]
  },
  {
   "cell_type": "code",
   "execution_count": 23,
   "metadata": {},
   "outputs": [
    {
     "name": "stdout",
     "output_type": "stream",
     "text": [
      "   orderID customerID  employeeID                orderDate  \\\n",
      "0    10248      VINET           5  1996-07-04 00:00:00.000   \n",
      "1    10249      TOMSP           6  1996-07-05 00:00:00.000   \n",
      "2    10250      HANAR           4  1996-07-08 00:00:00.000   \n",
      "3    10251      VICTE           3  1996-07-08 00:00:00.000   \n",
      "4    10252      SUPRD           4  1996-07-09 00:00:00.000   \n",
      "\n",
      "              requiredDate              shippedDate  shipVia  freight  \\\n",
      "0  1996-08-01 00:00:00.000  1996-07-16 00:00:00.000        3    32.38   \n",
      "1  1996-08-16 00:00:00.000  1996-07-10 00:00:00.000        1    11.61   \n",
      "2  1996-08-05 00:00:00.000  1996-07-12 00:00:00.000        2    65.83   \n",
      "3  1996-08-05 00:00:00.000  1996-07-15 00:00:00.000        1    41.34   \n",
      "4  1996-08-06 00:00:00.000  1996-07-11 00:00:00.000        2    51.30   \n",
      "\n",
      "                    shipName          shipAddress        shipCity shipRegion  \\\n",
      "0  Vins et alcools Chevalier   59 rue de l'Abbaye           Reims        NaN   \n",
      "1         Toms Spezialitäten        Luisenstr. 48         Münster        NaN   \n",
      "2              Hanari Carnes       Rua do Paço 67  Rio de Janeiro         RJ   \n",
      "3       Victuailles en stock    2 rue du Commerce            Lyon        NaN   \n",
      "4           Suprêmes délices  Boulevard Tirou 255       Charleroi        NaN   \n",
      "\n",
      "  shipPostalCode shipCountry  \n",
      "0          51100      France  \n",
      "1          44087     Germany  \n",
      "2      05454-876      Brazil  \n",
      "3          69004      France  \n",
      "4         B-6000     Belgium  \n"
     ]
    }
   ],
   "source": [
    "orders = pd.read_csv('./raw_data/orders.csv')\n",
    "print(orders.head())"
   ]
  },
  {
   "cell_type": "markdown",
   "metadata": {},
   "source": [
    "- **orderID**: All of these should occur at least once in order_details.\n",
    "- **customerID**: Should reference `customerID` from `customers`.\n",
    "- **employeeID**: all of these values should be in `employeeID` in `employees`\n",
    "- **requiredDate**: The date of contractual obligation to deliver, i.e. the date the customer expects the shipment the latest. If `shippedDate` > `requiredDate` , then a shipment is officially delayed.\n",
    "- **shippedDate**: `shippedDate` - `orderDate` = Order processing time\n",
    "- **shipVia**: references the `shipperID` from `shippers`\n",
    "- **freight**: Not sure if this is the shipping costs separately OR the weight of the shipment in kilograms or so?!\n",
    "- **shipName / shipAddress / shipCity / shipRegionm / shipPostalCode / shipCountry**: Should all reference the respective columns from `customers` for the respective `customerID` of that order. "
   ]
  },
  {
   "cell_type": "markdown",
   "metadata": {},
   "source": [
    "# products.csv"
   ]
  },
  {
   "cell_type": "code",
   "execution_count": 24,
   "metadata": {},
   "outputs": [
    {
     "name": "stdout",
     "output_type": "stream",
     "text": [
      "   productID                   productName  categoryID      quantityPerUnit  \\\n",
      "0          1                          Chai           1   10 boxes x 20 bags   \n",
      "1          2                         Chang           1   24 - 12 oz bottles   \n",
      "2          3                 Aniseed Syrup           2  12 - 550 ml bottles   \n",
      "3          4  Chef Anton's Cajun Seasoning           2       48 - 6 oz jars   \n",
      "4          5        Chef Anton's Gumbo Mix           2             36 boxes   \n",
      "\n",
      "   unitPrice  unitsInStock  unitsOnOrder  reorderLevel  discontinued  \n",
      "0      18.00            39             0            10             0  \n",
      "1      19.00            17            40            25             0  \n",
      "2      10.00            13            70            25             0  \n",
      "3      22.00            53             0             0             0  \n",
      "4      21.35             0             0             0             1  \n"
     ]
    }
   ],
   "source": [
    "products = pd.read_csv('./raw_data/products.csv')\n",
    "print(products.head())"
   ]
  },
  {
   "cell_type": "markdown",
   "metadata": {},
   "source": [
    "- **productName**: special characters?!\n",
    "- **categoryID**: references `categoryID` from `categories`\n",
    "- **quantityPerUnit**: Bit of a messy dimension. We could isolate several possible sub-dimensions here such as \"containerType\", \"containerSize\", \"containersPerUnit\" or sometimes even \"subContainer\" and \"subContainerSize\". Example for `productID` == 1: `containerType` == 'box', `containerSize` = NULL, `containersPerUnit` == 10, `subContainer` == \"bag\", `subContainerSize` = NULL, `subContainersPerContainer` == 20. The main problem here is that it might be tricky to automate these derived dimensions.\n",
    "- **unitPrice**: Must contain two decimal places\n",
    "- **unitsInStock / unitsOnOrder**: If the latter is greater than the former, you have backorders\n",
    "- **reorderLevel**: If your `unitsInStock` are below this level, you need to replenish your stock.\n",
    "- **discontinued**: Seems to be binary: Has the production of this product stopped, i.e. can you restock this item? If not, some of your orders might be in danger because you might not be able to fulfil them."
   ]
  },
  {
   "cell_type": "markdown",
   "metadata": {},
   "source": [
    "# shippers.csv"
   ]
  },
  {
   "cell_type": "code",
   "execution_count": 25,
   "metadata": {},
   "outputs": [
    {
     "name": "stdout",
     "output_type": "stream",
     "text": [
      "   shipperID       companyName           phone\n",
      "0          1    Speedy Express  (503) 555-9831\n",
      "1          2    United Package  (503) 555-3199\n",
      "2          3  Federal Shipping  (503) 555-9931\n"
     ]
    }
   ],
   "source": [
    "shippers = pd.read_csv('./raw_data/shippers.csv')\n",
    "print(shippers.head())"
   ]
  },
  {
   "cell_type": "markdown",
   "metadata": {},
   "source": [
    "- **companyName**: See discussion about special characters in proper names above.\n",
    "- **phone**: See discussion about common formats for phone numbers above."
   ]
  }
 ],
 "metadata": {
  "kernelspec": {
   "display_name": "venv",
   "language": "python",
   "name": "python3"
  },
  "language_info": {
   "codemirror_mode": {
    "name": "ipython",
    "version": 3
   },
   "file_extension": ".py",
   "mimetype": "text/x-python",
   "name": "python",
   "nbconvert_exporter": "python",
   "pygments_lexer": "ipython3",
   "version": "3.12.3"
  }
 },
 "nbformat": 4,
 "nbformat_minor": 2
}
